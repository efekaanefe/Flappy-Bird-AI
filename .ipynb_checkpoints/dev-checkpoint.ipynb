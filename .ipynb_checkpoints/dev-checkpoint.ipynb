{
 "cells": [
  {
   "cell_type": "code",
   "execution_count": 1,
   "metadata": {},
   "outputs": [
    {
     "name": "stdout",
     "output_type": "stream",
     "text": [
      "pygame 2.5.2 (SDL 2.28.3, Python 3.11.6)\n",
      "Hello from the pygame community. https://www.pygame.org/contribute.html\n"
     ]
    }
   ],
   "source": [
    "from population_manager import PopulatioManager\n",
    "from specie import Specie\n",
    "from constants import *\n",
    "import numpy as np"
   ]
  },
  {
   "cell_type": "code",
   "execution_count": 15,
   "metadata": {},
   "outputs": [],
   "source": [
    "population_manager = PopulatioManager(1)\n",
    "population_manager.generate_population()\n",
    "\n",
    "for i in range(50):\n",
    "    population_manager.population[i].score = 500"
   ]
  },
  {
   "cell_type": "code",
   "execution_count": 16,
   "metadata": {},
   "outputs": [],
   "source": [
    "# population_manager.survival_of_the_fittest()\n",
    "population_manager.speciate()"
   ]
  },
  {
   "cell_type": "code",
   "execution_count": 17,
   "metadata": {},
   "outputs": [
    {
     "name": "stdout",
     "output_type": "stream",
     "text": [
      "--------------------------------------------------\n",
      "Average Scores: 0\n",
      "--------------------------------------------------\n",
      "Average Scores: 0\n",
      "--------------------------------------------------\n",
      "Average Scores: 0\n",
      "--------------------------------------------------\n",
      "Average Scores: 0\n",
      "--------------------------------------------------\n",
      "Average Scores: 0\n",
      "--------------------------------------------------\n",
      "Average Scores: 0\n",
      "--------------------------------------------------\n",
      "Average Scores: 0\n",
      "--------------------------------------------------\n",
      "Average Scores: 0\n",
      "--------------------------------------------------\n",
      "Average Scores: 0\n",
      "--------------------------------------------------\n",
      "Average Scores: 0\n"
     ]
    }
   ],
   "source": [
    "for specie in population_manager.species:\n",
    "    print(\"-\"*50)\n",
    "    print(\"Average Scores:\", specie.average_score)\n",
    "    # for bird in specie.members:\n",
    "        # print(np.abs(np.sum(specie.refenrence_bird.brain.w - bird.brain.w)) < WEIGHT_DIFFERENCE_THRESHOLD)"
   ]
  },
  {
   "cell_type": "code",
   "execution_count": 5,
   "metadata": {},
   "outputs": [
    {
     "ename": "AttributeError",
     "evalue": "'NoneType' object has no attribute 'clone'",
     "output_type": "error",
     "traceback": [
      "\u001b[1;31m---------------------------------------------------------------------------\u001b[0m",
      "\u001b[1;31mAttributeError\u001b[0m                            Traceback (most recent call last)",
      "Cell \u001b[1;32mIn[5], line 1\u001b[0m\n\u001b[1;32m----> 1\u001b[0m \u001b[43mpopulation_manager\u001b[49m\u001b[38;5;241;43m.\u001b[39;49m\u001b[43msurvival_of_the_fittest\u001b[49m\u001b[43m(\u001b[49m\u001b[43m)\u001b[49m\n",
      "File \u001b[1;32m~\\Desktop\\Efe\\Coding\\personal\\Flappy-Bird-AI\\population_manager.py:75\u001b[0m, in \u001b[0;36mPopulatioManager.survival_of_the_fittest\u001b[1;34m(self)\u001b[0m\n\u001b[0;32m     71\u001b[0m \u001b[38;5;28mself\u001b[39m\u001b[38;5;241m.\u001b[39mcalculate_fitness_for_species()\n\u001b[0;32m     73\u001b[0m \u001b[38;5;28mself\u001b[39m\u001b[38;5;241m.\u001b[39msort_population()\n\u001b[1;32m---> 75\u001b[0m \u001b[38;5;28;43mself\u001b[39;49m\u001b[38;5;241;43m.\u001b[39;49m\u001b[43mgenerate_next_population\u001b[49m\u001b[43m(\u001b[49m\u001b[43m)\u001b[49m\n",
      "File \u001b[1;32m~\\Desktop\\Efe\\Coding\\personal\\Flappy-Bird-AI\\population_manager.py:110\u001b[0m, in \u001b[0;36mPopulatioManager.generate_next_population\u001b[1;34m(self)\u001b[0m\n\u001b[0;32m    107\u001b[0m children \u001b[38;5;241m=\u001b[39m []\n\u001b[0;32m    109\u001b[0m \u001b[38;5;28;01mfor\u001b[39;00m specie \u001b[38;5;129;01min\u001b[39;00m \u001b[38;5;28mself\u001b[39m\u001b[38;5;241m.\u001b[39mspecies: \u001b[38;5;66;03m# best of every specie survives\u001b[39;00m\n\u001b[1;32m--> 110\u001b[0m     children\u001b[38;5;241m.\u001b[39mappend(\u001b[43mspecie\u001b[49m\u001b[38;5;241;43m.\u001b[39;49m\u001b[43mchampion\u001b[49m\u001b[38;5;241;43m.\u001b[39;49m\u001b[43mclone\u001b[49m())\n\u001b[0;32m    112\u001b[0m children_per_species \u001b[38;5;241m=\u001b[39m np\u001b[38;5;241m.\u001b[39mfloor((\u001b[38;5;28mself\u001b[39m\u001b[38;5;241m.\u001b[39mpopulation_size \u001b[38;5;241m-\u001b[39m \u001b[38;5;28mlen\u001b[39m(\u001b[38;5;28mself\u001b[39m\u001b[38;5;241m.\u001b[39mspecies)) \u001b[38;5;241m/\u001b[39m \u001b[38;5;28mlen\u001b[39m(\u001b[38;5;28mself\u001b[39m\u001b[38;5;241m.\u001b[39mspecies))\u001b[38;5;241m.\u001b[39mastype(\u001b[38;5;28mint\u001b[39m)\n\u001b[0;32m    114\u001b[0m \u001b[38;5;28;01mfor\u001b[39;00m specie \u001b[38;5;129;01min\u001b[39;00m \u001b[38;5;28mself\u001b[39m\u001b[38;5;241m.\u001b[39mspecies:\n",
      "\u001b[1;31mAttributeError\u001b[0m: 'NoneType' object has no attribute 'clone'"
     ]
    }
   ],
   "source": [
    "population_manager.survival_of_the_fittest()"
   ]
  },
  {
   "cell_type": "code",
   "execution_count": null,
   "metadata": {},
   "outputs": [],
   "source": []
  }
 ],
 "metadata": {
  "kernelspec": {
   "display_name": "Python 3 (ipykernel)",
   "language": "python",
   "name": "python3"
  },
  "language_info": {
   "codemirror_mode": {
    "name": "ipython",
    "version": 3
   },
   "file_extension": ".py",
   "mimetype": "text/x-python",
   "name": "python",
   "nbconvert_exporter": "python",
   "pygments_lexer": "ipython3",
   "version": "3.11.6"
  }
 },
 "nbformat": 4,
 "nbformat_minor": 4
}
