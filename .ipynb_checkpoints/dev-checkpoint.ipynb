{
 "cells": [
  {
   "cell_type": "code",
   "execution_count": 8,
   "metadata": {},
   "outputs": [],
   "source": [
    "from population_manager import PopulatioManager\n",
    "from specie import Specie\n",
    "from constants import *\n",
    "import numpy as np"
   ]
  },
  {
   "cell_type": "code",
   "execution_count": 11,
   "metadata": {},
   "outputs": [],
   "source": [
    "population_manager = PopulatioManager(1)\n",
    "population_manager.generate_population()\n",
    "\n",
    "for i in range(19):\n",
    "    population_manager.population[i].score = np.random.randint(0, 500)"
   ]
  },
  {
   "cell_type": "code",
   "execution_count": 12,
   "metadata": {},
   "outputs": [],
   "source": [
    "population_manager.survival_of_the_fittest()"
   ]
  },
  {
   "cell_type": "code",
   "execution_count": 13,
   "metadata": {},
   "outputs": [
    {
     "name": "stdout",
     "output_type": "stream",
     "text": [
      "2.8378570924371127\n",
      "1.8298225192505757\n",
      "3.0901219419748966\n",
      "3.5314432712814257\n"
     ]
    }
   ],
   "source": [
    "for i in range(len(population_manager.species)):\n",
    "    print(np.sum(population_manager.species[i].refenrence_bird.brain.w))"
   ]
  },
  {
   "cell_type": "code",
   "execution_count": 14,
   "metadata": {},
   "outputs": [
    {
     "name": "stdout",
     "output_type": "stream",
     "text": [
      "5.961165048543689\n",
      "3.9288256227758005\n",
      "0.0\n",
      "0.0\n"
     ]
    }
   ],
   "source": [
    "for specie in population_manager.species:\n",
    "    print(np.sum(specie.refenrence_bird.brain.w))\n",
    "    print(specie.average_score)\n",
    "    for bird in specie.members:\n",
    "        print(bird."
   ]
  },
  {
   "cell_type": "code",
   "execution_count": null,
   "metadata": {},
   "outputs": [],
   "source": []
  }
 ],
 "metadata": {
  "kernelspec": {
   "display_name": "Python 3 (ipykernel)",
   "language": "python",
   "name": "python3"
  },
  "language_info": {
   "codemirror_mode": {
    "name": "ipython",
    "version": 3
   },
   "file_extension": ".py",
   "mimetype": "text/x-python",
   "name": "python",
   "nbconvert_exporter": "python",
   "pygments_lexer": "ipython3",
   "version": "3.11.6"
  }
 },
 "nbformat": 4,
 "nbformat_minor": 4
}
