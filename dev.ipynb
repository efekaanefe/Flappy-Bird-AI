{
 "cells": [
  {
   "cell_type": "code",
   "execution_count": 8,
   "metadata": {},
   "outputs": [],
   "source": [
    "from population_manager import PopulatioManager\n",
    "from specie import Specie\n",
    "from constants import *\n",
    "import numpy as np"
   ]
  },
  {
   "cell_type": "code",
   "execution_count": 9,
   "metadata": {},
   "outputs": [],
   "source": [
    "population_manager = PopulatioManager(1)\n",
    "population_manager.generate_population()\n",
    "\n",
    "for i in range(19):\n",
    "    population_manager.population[i].score = np.random.randint(0, 500)"
   ]
  },
  {
   "cell_type": "code",
   "execution_count": 10,
   "metadata": {},
   "outputs": [],
   "source": [
    "population_manager.survival_of_the_fittest()\n",
    "# population_manager.speciate()"
   ]
  },
  {
   "cell_type": "code",
   "execution_count": 14,
   "metadata": {},
   "outputs": [
    {
     "name": "stdout",
     "output_type": "stream",
     "text": [
      "--------------------------------------------------\n",
      "Average Scores: 25.32075471698113\n",
      "--------------------------------------------------\n",
      "Average Scores: 11.068181818181818\n",
      "--------------------------------------------------\n",
      "Average Scores: 4.765625\n",
      "--------------------------------------------------\n",
      "Average Scores: 4.1521739130434785\n",
      "--------------------------------------------------\n",
      "Average Scores: 4.022950819672131\n",
      "--------------------------------------------------\n",
      "Average Scores: 2.388059701492537\n",
      "--------------------------------------------------\n",
      "Average Scores: 0.0\n",
      "--------------------------------------------------\n",
      "Average Scores: 0.0\n",
      "--------------------------------------------------\n",
      "Average Scores: 0.0\n",
      "--------------------------------------------------\n",
      "Average Scores: 0.0\n",
      "--------------------------------------------------\n",
      "Average Scores: 0.0\n"
     ]
    }
   ],
   "source": [
    "for specie in population_manager.species:\n",
    "    print(\"-\"*50)\n",
    "    print(\"Average Scores:\", specie.average_score)\n",
    "    # for bird in specie.members:\n",
    "        # print(np.abs(np.sum(specie.refenrence_bird.brain.w - bird.brain.w)) < WEIGHT_DIFFERENCE_THRESHOLD)"
   ]
  },
  {
   "cell_type": "code",
   "execution_count": null,
   "metadata": {},
   "outputs": [],
   "source": []
  }
 ],
 "metadata": {
  "kernelspec": {
   "display_name": "Python 3 (ipykernel)",
   "language": "python",
   "name": "python3"
  },
  "language_info": {
   "codemirror_mode": {
    "name": "ipython",
    "version": 3
   },
   "file_extension": ".py",
   "mimetype": "text/x-python",
   "name": "python",
   "nbconvert_exporter": "python",
   "pygments_lexer": "ipython3",
   "version": "3.11.6"
  }
 },
 "nbformat": 4,
 "nbformat_minor": 4
}
