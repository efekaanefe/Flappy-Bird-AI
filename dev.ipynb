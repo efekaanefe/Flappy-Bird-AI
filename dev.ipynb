{
 "cells": [
  {
   "cell_type": "code",
   "execution_count": 1,
   "metadata": {},
   "outputs": [
    {
     "name": "stdout",
     "output_type": "stream",
     "text": [
      "pygame 2.5.2 (SDL 2.28.3, Python 3.11.6)\n",
      "Hello from the pygame community. https://www.pygame.org/contribute.html\n"
     ]
    }
   ],
   "source": [
    "from population_manager import PopulatioManager\n",
    "from specie import Specie\n",
    "from constants import *\n"
   ]
  },
  {
   "cell_type": "code",
   "execution_count": 75,
   "metadata": {},
   "outputs": [
    {
     "name": "stdout",
     "output_type": "stream",
     "text": [
      "5\n",
      "655\n"
     ]
    }
   ],
   "source": [
    "population_manager = PopulatioManager(1)\n",
    "population_manager.generate_population()\n",
    "\n",
    "# speciate\n",
    "for specie in population_manager.species:\n",
    "    specie.members = []\n",
    "\n",
    "count = 0\n",
    "for bird in population_manager.population:\n",
    "    # print(count)\n",
    "    # count += 1\n",
    "    if len(population_manager.species) == 0:\n",
    "        population_manager.species.append(Specie(bird))\n",
    "\n",
    "    else:\n",
    "        bird_is_added_to_members = False\n",
    "\n",
    "        for specie in population_manager.species:\n",
    "            is_bird_relative = specie.is_bird_relative(bird)\n",
    "            if is_bird_relative:\n",
    "                specie.add_member(bird)\n",
    "                bird_is_added_to_members = True\n",
    "                break\n",
    "                \n",
    "        if not bird_is_added_to_members: # new specie\n",
    "            population_manager.add_new_specie(bird)\n",
    "            \n",
    "print(len(population_manager.species))\n",
    "print(len(population_manager.species[0].members))"
   ]
  },
  {
   "cell_type": "code",
   "execution_count": 76,
   "metadata": {},
   "outputs": [
    {
     "name": "stdout",
     "output_type": "stream",
     "text": [
      "[0.49022824 0.35142383 0.45489751 0.66172117]\n",
      "[0.64081226 0.03610354 0.60041598 0.95948563]\n",
      "[0.8911829  0.83748958 0.57345086 0.3521657 ]\n"
     ]
    }
   ],
   "source": [
    "for i in range(3):\n",
    "    print(population_manager.species[i].refenrence_bird.brain.w)\n"
   ]
  },
  {
   "cell_type": "code",
   "execution_count": null,
   "metadata": {},
   "outputs": [],
   "source": [
    "population_manager.species[i].refenrence_bird"
   ]
  }
 ],
 "metadata": {
  "kernelspec": {
   "display_name": "Python 3 (ipykernel)",
   "language": "python",
   "name": "python3"
  },
  "language_info": {
   "codemirror_mode": {
    "name": "ipython",
    "version": 3
   },
   "file_extension": ".py",
   "mimetype": "text/x-python",
   "name": "python",
   "nbconvert_exporter": "python",
   "pygments_lexer": "ipython3",
   "version": "3.11.6"
  }
 },
 "nbformat": 4,
 "nbformat_minor": 4
}
