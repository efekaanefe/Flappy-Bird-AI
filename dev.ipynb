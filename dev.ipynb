{
 "cells": [
  {
   "cell_type": "code",
   "execution_count": 1,
   "metadata": {},
   "outputs": [
    {
     "name": "stdout",
     "output_type": "stream",
     "text": [
      "pygame 2.5.2 (SDL 2.28.3, Python 3.11.6)\n",
      "Hello from the pygame community. https://www.pygame.org/contribute.html\n"
     ]
    }
   ],
   "source": [
    "from population_manager import PopulatioManager\n",
    "from specie import Specie\n",
    "from constants import *\n",
    "import numpy as np"
   ]
  },
  {
   "cell_type": "code",
   "execution_count": 2,
   "metadata": {},
   "outputs": [],
   "source": [
    "population_manager = PopulatioManager(1)\n",
    "population_manager.generate_population()\n",
    "\n",
    "for i in range(50):\n",
    "    population_manager.population[i].score = 500"
   ]
  },
  {
   "cell_type": "code",
   "execution_count": 3,
   "metadata": {},
   "outputs": [],
   "source": [
    "# population_manager.survival_of_the_fittest()\n",
    "population_manager.speciate()\n",
    "population_manager.calculate_fitness_for_species()\n",
    "population_manager.sort_population()"
   ]
  },
  {
   "cell_type": "code",
   "execution_count": 4,
   "metadata": {},
   "outputs": [
    {
     "name": "stdout",
     "output_type": "stream",
     "text": [
      "--------------------------------------------------\n",
      "Average Scores: 90.9090909090909\n",
      "--------------------------------------------------\n",
      "Average Scores: 25.22704339051463\n"
     ]
    }
   ],
   "source": [
    "for specie in population_manager.species:\n",
    "    print(\"-\"*50)\n",
    "    print(\"Average Scores:\", specie.average_score)\n",
    "    # for bird in specie.members:\n",
    "        # print(np.abs(np.sum(specie.refenrence_bird.brain.w - bird.brain.w)) < WEIGHT_DIFFERENCE_THRESHOLD)"
   ]
  },
  {
   "cell_type": "code",
   "execution_count": 10,
   "metadata": {},
   "outputs": [
    {
     "name": "stdout",
     "output_type": "stream",
     "text": [
      "11\n"
     ]
    },
    {
     "ename": "IndexError",
     "evalue": "list index out of range",
     "output_type": "error",
     "traceback": [
      "\u001b[1;31m---------------------------------------------------------------------------\u001b[0m",
      "\u001b[1;31mIndexError\u001b[0m                                Traceback (most recent call last)",
      "Cell \u001b[1;32mIn[10], line 1\u001b[0m\n\u001b[1;32m----> 1\u001b[0m \u001b[43mpopulation_manager\u001b[49m\u001b[38;5;241;43m.\u001b[39;49m\u001b[43msurvival_of_the_fittest\u001b[49m\u001b[43m(\u001b[49m\u001b[43m)\u001b[49m\n",
      "File \u001b[1;32m~\\Desktop\\Efe\\Coding\\personal\\Flappy-Bird-AI\\population_manager.py:73\u001b[0m, in \u001b[0;36mPopulatioManager.survival_of_the_fittest\u001b[1;34m(self)\u001b[0m\n\u001b[0;32m     69\u001b[0m \u001b[38;5;28mself\u001b[39m\u001b[38;5;241m.\u001b[39mspeciate()\n\u001b[0;32m     71\u001b[0m \u001b[38;5;28mprint\u001b[39m(\u001b[38;5;28mlen\u001b[39m(\u001b[38;5;28mself\u001b[39m\u001b[38;5;241m.\u001b[39mspecies))\n\u001b[1;32m---> 73\u001b[0m \u001b[38;5;28;43mself\u001b[39;49m\u001b[38;5;241;43m.\u001b[39;49m\u001b[43mcalculate_fitness_for_species\u001b[49m\u001b[43m(\u001b[49m\u001b[43m)\u001b[49m\n\u001b[0;32m     75\u001b[0m \u001b[38;5;28mself\u001b[39m\u001b[38;5;241m.\u001b[39msort_population()\n\u001b[0;32m     77\u001b[0m \u001b[38;5;28mself\u001b[39m\u001b[38;5;241m.\u001b[39mgenerate_next_population()\n",
      "File \u001b[1;32m~\\Desktop\\Efe\\Coding\\personal\\Flappy-Bird-AI\\population_manager.py:102\u001b[0m, in \u001b[0;36mPopulatioManager.calculate_fitness_for_species\u001b[1;34m(self)\u001b[0m\n\u001b[0;32m    100\u001b[0m \u001b[38;5;28;01mfor\u001b[39;00m specie \u001b[38;5;129;01min\u001b[39;00m \u001b[38;5;28mself\u001b[39m\u001b[38;5;241m.\u001b[39mspecies:\n\u001b[0;32m    101\u001b[0m     specie\u001b[38;5;241m.\u001b[39mcalculate_average_score()\n\u001b[1;32m--> 102\u001b[0m     \u001b[43mspecie\u001b[49m\u001b[38;5;241;43m.\u001b[39;49m\u001b[43mfind_champion\u001b[49m\u001b[43m(\u001b[49m\u001b[43m)\u001b[49m\n",
      "File \u001b[1;32m~\\Desktop\\Efe\\Coding\\personal\\Flappy-Bird-AI\\specie.py:43\u001b[0m, in \u001b[0;36mSpecie.find_champion\u001b[1;34m(self)\u001b[0m\n\u001b[0;32m     41\u001b[0m         max_score \u001b[38;5;241m=\u001b[39m bird\u001b[38;5;241m.\u001b[39mscore\n\u001b[0;32m     42\u001b[0m \u001b[38;5;28;01mif\u001b[39;00m max_score \u001b[38;5;241m==\u001b[39m \u001b[38;5;241m0\u001b[39m:\n\u001b[1;32m---> 43\u001b[0m     \u001b[38;5;28mself\u001b[39m\u001b[38;5;241m.\u001b[39mchampion \u001b[38;5;241m=\u001b[39m \u001b[38;5;28;43mself\u001b[39;49m\u001b[38;5;241;43m.\u001b[39;49m\u001b[43mmembers\u001b[49m\u001b[43m[\u001b[49m\u001b[38;5;241;43m0\u001b[39;49m\u001b[43m]\u001b[49m\n",
      "\u001b[1;31mIndexError\u001b[0m: list index out of range"
     ]
    }
   ],
   "source": [
    "population_manager.survival_of_the_fittest()"
   ]
  },
  {
   "cell_type": "code",
   "execution_count": null,
   "metadata": {},
   "outputs": [],
   "source": []
  }
 ],
 "metadata": {
  "kernelspec": {
   "display_name": "Python 3 (ipykernel)",
   "language": "python",
   "name": "python3"
  },
  "language_info": {
   "codemirror_mode": {
    "name": "ipython",
    "version": 3
   },
   "file_extension": ".py",
   "mimetype": "text/x-python",
   "name": "python",
   "nbconvert_exporter": "python",
   "pygments_lexer": "ipython3",
   "version": "3.11.6"
  }
 },
 "nbformat": 4,
 "nbformat_minor": 4
}
